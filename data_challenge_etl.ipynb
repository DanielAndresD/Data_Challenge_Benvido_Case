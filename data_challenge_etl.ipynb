{
 "cells": [
  {
   "attachments": {},
   "cell_type": "markdown",
   "metadata": {},
   "source": [
    "# Data Challenge\n",
    "\n",
    "**Autor:** Daniel Dávila Lesmes \n",
    "<br>\n",
    "**Contact me** danielandresd998@gmail.com - https://www.linkedin.com/in/danielandresd/\n",
    "<br>\n",
    "ETL Process from Data Fans Challenge\n",
    "<br>\n",
    "Check the discord channel on: https://discord.gg/cmHQGhGy"
   ]
  },
  {
   "attachments": {},
   "cell_type": "markdown",
   "metadata": {},
   "source": [
    "# Business Case"
   ]
  },
  {
   "attachments": {},
   "cell_type": "markdown",
   "metadata": {},
   "source": [
    "## Benvido case\n",
    "\n",
    "An e-commerce company called Benvindo, located in Brazil, has shared their data with you. The General Management is interested in learning more about their business operations. They want to know more about their products and their customers in order to make decisions regarding their product lines.\n",
    "\n",
    "🤔 They are unsure which products are most valuable to their customers and they believe they can optimize their inventory by better selecting their offerings to the public.\n",
    "\n",
    "For this reason, they have decided to work with you. You can use the visualization tool(s) or programming language of your preference, such as :sql: :excel: :powerbi: :python: to work on the data model, process the data and present your results. Keep in mind that the project you develop must be understandable for the end client proposed in this case, which is the General Manager of the e-commerce and the Sales Manager.\n",
    "\n",
    "👩‍💼 QUESTIONS TO SOLVE 👨‍💼\n",
    "\n",
    "Section A\n",
    "\n",
    "What are the product categories with the highest sales?\n",
    "Which categories have the highest shipping costs?\n",
    "Which of these categories, taking only shipping costs into account, has the highest profit margin?\n",
    "We believe that products with better reviews are the ones with the most sales. Is this really the case?\n",
    "What is the preferred payment method for customers? And does it coincide with the payment method with the highest cash flow?\n",
    "\n",
    "Section B\n",
    "Perform an analysis of this data to find any insights 💡 that you think are relevant for the company. Explain the process you carried out, whether you developed any data cleaning and preparation processes, the conclusions you reached, and the limitations or improvements that the analysis has.\n",
    "\n",
    "Use the information provided to reach your results. Graph or present in tables the information that you find most relevant. Make recommendations based on your findings"
   ]
  },
  {
   "attachments": {},
   "cell_type": "markdown",
   "metadata": {},
   "source": [
    "## Working data\n",
    "\n",
    "5 Excel files with the data schema tables:\n",
    "- olist_order_items_dataset.csv\n",
    "- olist_order_payments_dataset.csv\n",
    "- olist_order_reviews_dataset.csv\n",
    "- olist_orders_dataset.csv\n",
    "- olist_products_dataset.csv\n",
    "\n",
    "1 more Excel file with the product names and their translation into Spanish:\n",
    "- product_category_name_translation.csv"
   ]
  },
  {
   "attachments": {},
   "cell_type": "markdown",
   "metadata": {},
   "source": [
    "# ETL process dev"
   ]
  },
  {
   "attachments": {},
   "cell_type": "markdown",
   "metadata": {},
   "source": [
    "## 1. Import Modules"
   ]
  },
  {
   "cell_type": "code",
   "execution_count": 61,
   "metadata": {},
   "outputs": [],
   "source": [
    "\"\"\"Import modules\"\"\"\n",
    "import pandas as pd\n"
   ]
  },
  {
   "cell_type": "code",
   "execution_count": 1,
   "metadata": {},
   "outputs": [],
   "source": [
    "\"\"\"Import functions from personal modules\"\"\"\n",
    "from personal_modules.database_functions import create_insert_query_from_df\n",
    "from personal_modules.etl_functions import extract_data"
   ]
  },
  {
   "attachments": {},
   "cell_type": "markdown",
   "metadata": {},
   "source": [
    "## 2 Add files paths"
   ]
  },
  {
   "cell_type": "code",
   "execution_count": 2,
   "metadata": {},
   "outputs": [],
   "source": [
    "db_credentials_json_path='settings/data-import-user-cred.json' # Db credentials from json file\n",
    "original_datasets_path='original_datasets/' # Datasets Folder path \n",
    "\n",
    "\"\"\"Create datasets paths\"\"\"\n",
    "\n",
    "product_categories_path= original_datasets_path + 'product_category_name_translation.csv'\n",
    "products_path=           original_datasets_path + 'olist_products_dataset.csv'\n",
    "orders_path=             original_datasets_path + 'olist_orders_dataset.csv'\n",
    "order_reviews_path=      original_datasets_path + 'olist_order_reviews_dataset.csv'\n",
    "order_payments_path=     original_datasets_path + 'olist_order_payments_dataset.csv'\n",
    "order_items_path=        original_datasets_path + 'olist_order_items_dataset.csv'"
   ]
  },
  {
   "attachments": {},
   "cell_type": "markdown",
   "metadata": {},
   "source": [
    "## 3. Extract"
   ]
  },
  {
   "attachments": {},
   "cell_type": "markdown",
   "metadata": {},
   "source": [
    "### 3.1. Create datasets\n",
    "\n",
    "Extract data from csv and transform to pandas DataFrames\n",
    "<br>\n",
    "The extract includes preprocessing functions for rows dataframe (drop_duplicates,drop_na)"
   ]
  },
  {
   "cell_type": "code",
   "execution_count": 3,
   "metadata": {},
   "outputs": [],
   "source": [
    "product_categories_df=extract_data(product_categories_path)\n",
    "products_df=extract_data(products_path)\n",
    "orders_df=extract_data(orders_path)\n",
    "order_reviews_df=extract_data(order_reviews_path)\n",
    "order_payments_df=extract_data(order_payments_path)\n",
    "order_items_df=extract_data(order_items_path)"
   ]
  }
 ],
 "metadata": {
  "kernelspec": {
   "display_name": "Python 3",
   "language": "python",
   "name": "python3"
  },
  "language_info": {
   "codemirror_mode": {
    "name": "ipython",
    "version": 3
   },
   "file_extension": ".py",
   "mimetype": "text/x-python",
   "name": "python",
   "nbconvert_exporter": "python",
   "pygments_lexer": "ipython3",
   "version": "3.10.11"
  },
  "orig_nbformat": 4
 },
 "nbformat": 4,
 "nbformat_minor": 2
}
