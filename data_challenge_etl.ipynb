{
 "cells": [
  {
   "attachments": {},
   "cell_type": "markdown",
   "metadata": {},
   "source": [
    "# Data Challenge\n",
    "\n",
    "**Autor:** Daniel Dávila Lesmes \n",
    "<br>\n",
    "**Contact me:** danielandresd998@gmail.com - https://www.linkedin.com/in/danielandresd/\n",
    "<br>\n",
    "ETL Process from Data Fans Challenge\n",
    "<br>\n",
    "Check the discord channel on: https://discord.gg/cmHQGhGy"
   ]
  },
  {
   "attachments": {},
   "cell_type": "markdown",
   "metadata": {},
   "source": [
    "# Business Case"
   ]
  },
  {
   "attachments": {},
   "cell_type": "markdown",
   "metadata": {},
   "source": [
    "## Benvido case\n",
    "\n",
    "An e-commerce company called Benvindo, located in Brazil, has shared their data with you. The General Management is interested in learning more about their business operations. They want to know more about their products and their customers in order to make decisions regarding their product lines.\n",
    "\n",
    "🤔 They are unsure which products are most valuable to their customers and they believe they can optimize their inventory by better selecting their offerings to the public.\n",
    "\n",
    "For this reason, they have decided to work with you. You can use the visualization tool(s) or programming language of your preference, such as :sql: :excel: :powerbi: :python: to work on the data model, process the data and present your results. Keep in mind that the project you develop must be understandable for the end client proposed in this case, which is the General Manager of the e-commerce and the Sales Manager.\n",
    "\n",
    "👩‍💼 QUESTIONS TO SOLVE 👨‍💼\n",
    "\n",
    "Section A\n",
    "\n",
    "What are the product categories with the highest sales?\n",
    "Which categories have the highest shipping costs?\n",
    "Which of these categories, taking only shipping costs into account, has the highest profit margin?\n",
    "We believe that products with better reviews are the ones with the most sales. Is this really the case?\n",
    "What is the preferred payment method for customers? And does it coincide with the payment method with the highest cash flow?\n",
    "\n",
    "Section B\n",
    "Perform an analysis of this data to find any insights 💡 that you think are relevant for the company. Explain the process you carried out, whether you developed any data cleaning and preparation processes, the conclusions you reached, and the limitations or improvements that the analysis has.\n",
    "\n",
    "Use the information provided to reach your results. Graph or present in tables the information that you find most relevant. Make recommendations based on your findings"
   ]
  },
  {
   "attachments": {},
   "cell_type": "markdown",
   "metadata": {},
   "source": [
    "## Working data\n",
    "\n",
    "5 Excel files with the data schema tables:\n",
    "- olist_order_items_dataset.csv\n",
    "- olist_order_payments_dataset.csv\n",
    "- olist_order_reviews_dataset.csv\n",
    "- olist_orders_dataset.csv\n",
    "- olist_products_dataset.csv\n",
    "\n",
    "1 more Excel file with the product names and their translation into Spanish:\n",
    "- product_category_name_translation.csv"
   ]
  },
  {
   "attachments": {},
   "cell_type": "markdown",
   "metadata": {},
   "source": [
    "# ETL process dev"
   ]
  },
  {
   "attachments": {},
   "cell_type": "markdown",
   "metadata": {},
   "source": [
    "## 1. Import Modules"
   ]
  },
  {
   "cell_type": "code",
   "execution_count": 1,
   "metadata": {},
   "outputs": [],
   "source": [
    "\"\"\"Import modules\"\"\"\n",
    "import pandas as pd\n"
   ]
  },
  {
   "cell_type": "code",
   "execution_count": 2,
   "metadata": {},
   "outputs": [],
   "source": [
    "\"\"\"Import functions from personal modules\"\"\"\n",
    "from personal_modules.database_functions import create_insert_query_from_df\n",
    "from personal_modules.etl_functions import extract_data\n",
    "from personal_modules.etl_functions import list_outer_values\n"
   ]
  },
  {
   "attachments": {},
   "cell_type": "markdown",
   "metadata": {},
   "source": [
    "## 2 Add files paths"
   ]
  },
  {
   "cell_type": "code",
   "execution_count": 3,
   "metadata": {},
   "outputs": [],
   "source": [
    "db_credentials_json_path='settings/data-import-user-cred.json' # Db credentials from json file\n",
    "original_datasets_path='original_datasets/' # Datasets Folder path \n",
    "\n",
    "\"\"\"Create datasets paths\"\"\"\n",
    "\n",
    "product_categories_path= original_datasets_path + 'product_category_name_translation.csv'\n",
    "products_path=           original_datasets_path + 'olist_products_dataset.csv'\n",
    "orders_path=             original_datasets_path + 'olist_orders_dataset.csv'\n",
    "order_reviews_path=      original_datasets_path + 'olist_order_reviews_dataset.csv'\n",
    "order_payments_path=     original_datasets_path + 'olist_order_payments_dataset.csv'\n",
    "order_items_path=        original_datasets_path + 'olist_order_items_dataset.csv'"
   ]
  },
  {
   "attachments": {},
   "cell_type": "markdown",
   "metadata": {},
   "source": [
    "## 3. Extract"
   ]
  },
  {
   "attachments": {},
   "cell_type": "markdown",
   "metadata": {},
   "source": [
    "### 3.1. Create datasets\n",
    "\n",
    "Extract data from csv and transform to pandas DataFrames\n",
    "<br>\n",
    "The extract includes preprocessing functions for rows dataframe (drop_duplicates,drop_na)"
   ]
  },
  {
   "cell_type": "code",
   "execution_count": 4,
   "metadata": {},
   "outputs": [],
   "source": [
    "product_categories_df=extract_data(product_categories_path)\n",
    "products_df=extract_data(products_path)\n",
    "orders_df=extract_data(orders_path)\n",
    "order_reviews_df=extract_data(order_reviews_path)\n",
    "order_payments_df=extract_data(order_payments_path)\n",
    "order_items_df=extract_data(order_items_path)"
   ]
  },
  {
   "attachments": {},
   "cell_type": "markdown",
   "metadata": {},
   "source": [
    "## 4. Transform"
   ]
  },
  {
   "attachments": {},
   "cell_type": "markdown",
   "metadata": {},
   "source": [
    "### 4.1. View general info from datasets"
   ]
  },
  {
   "cell_type": "code",
   "execution_count": 5,
   "metadata": {},
   "outputs": [
    {
     "name": "stdout",
     "output_type": "stream",
     "text": [
      "<class 'pandas.core.frame.DataFrame'>\n",
      "Int64Index: 71 entries, 0 to 70\n",
      "Data columns (total 2 columns):\n",
      " #   Column                         Non-Null Count  Dtype \n",
      "---  ------                         --------------  ----- \n",
      " 0   product_category_name          71 non-null     object\n",
      " 1   product_category_name_english  71 non-null     object\n",
      "dtypes: object(2)\n",
      "memory usage: 1.7+ KB\n",
      "None\n",
      "****************************************************************************************************\n",
      "       product_category_name product_category_name_english\n",
      "count                     71                            71\n",
      "unique                    71                            71\n",
      "top             beleza_saude                 health_beauty\n",
      "freq                       1                             1\n"
     ]
    }
   ],
   "source": [
    "print(product_categories_df.info())\n",
    "print(\"**\"*50)\n",
    "print(product_categories_df.describe())"
   ]
  },
  {
   "cell_type": "code",
   "execution_count": 6,
   "metadata": {},
   "outputs": [
    {
     "name": "stdout",
     "output_type": "stream",
     "text": [
      "<class 'pandas.core.frame.DataFrame'>\n",
      "Int64Index: 32340 entries, 0 to 32950\n",
      "Data columns (total 9 columns):\n",
      " #   Column                      Non-Null Count  Dtype  \n",
      "---  ------                      --------------  -----  \n",
      " 0   product_id                  32340 non-null  object \n",
      " 1   product_category_name       32340 non-null  object \n",
      " 2   product_name_lenght         32340 non-null  float64\n",
      " 3   product_description_lenght  32340 non-null  float64\n",
      " 4   product_photos_qty          32340 non-null  float64\n",
      " 5   product_weight_g            32340 non-null  float64\n",
      " 6   product_length_cm           32340 non-null  float64\n",
      " 7   product_height_cm           32340 non-null  float64\n",
      " 8   product_width_cm            32340 non-null  float64\n",
      "dtypes: float64(7), object(2)\n",
      "memory usage: 2.5+ MB\n",
      "None\n",
      "****************************************************************************************************\n",
      "       product_name_lenght  product_description_lenght  product_photos_qty  \\\n",
      "count         32340.000000                32340.000000        32340.000000   \n",
      "mean             48.476592                  771.492393            2.188961   \n",
      "std              10.245699                  635.124831            1.736787   \n",
      "min               5.000000                    4.000000            1.000000   \n",
      "25%              42.000000                  339.000000            1.000000   \n",
      "50%              51.000000                  595.000000            1.000000   \n",
      "75%              57.000000                  972.000000            3.000000   \n",
      "max              76.000000                 3992.000000           20.000000   \n",
      "\n",
      "       product_weight_g  product_length_cm  product_height_cm  \\\n",
      "count      32340.000000       32340.000000       32340.000000   \n",
      "mean        2276.956586          30.854545          16.958813   \n",
      "std         4279.291845          16.955965          13.636115   \n",
      "min            0.000000           7.000000           2.000000   \n",
      "25%          300.000000          18.000000           8.000000   \n",
      "50%          700.000000          25.000000          13.000000   \n",
      "75%         1900.000000          38.000000          21.000000   \n",
      "max        40425.000000         105.000000         105.000000   \n",
      "\n",
      "       product_width_cm  \n",
      "count      32340.000000  \n",
      "mean          23.208596  \n",
      "std           12.078762  \n",
      "min            6.000000  \n",
      "25%           15.000000  \n",
      "50%           20.000000  \n",
      "75%           30.000000  \n",
      "max          118.000000  \n"
     ]
    }
   ],
   "source": [
    "print(products_df.info())\n",
    "print(\"**\"*50)\n",
    "print(products_df.describe())"
   ]
  },
  {
   "cell_type": "code",
   "execution_count": 7,
   "metadata": {},
   "outputs": [
    {
     "name": "stdout",
     "output_type": "stream",
     "text": [
      "<class 'pandas.core.frame.DataFrame'>\n",
      "Int64Index: 96461 entries, 0 to 99440\n",
      "Data columns (total 8 columns):\n",
      " #   Column                         Non-Null Count  Dtype \n",
      "---  ------                         --------------  ----- \n",
      " 0   order_id                       96461 non-null  object\n",
      " 1   customer_id                    96461 non-null  object\n",
      " 2   order_status                   96461 non-null  object\n",
      " 3   order_purchase_timestamp       96461 non-null  object\n",
      " 4   order_approved_at              96461 non-null  object\n",
      " 5   order_delivered_carrier_date   96461 non-null  object\n",
      " 6   order_delivered_customer_date  96461 non-null  object\n",
      " 7   order_estimated_delivery_date  96461 non-null  object\n",
      "dtypes: object(8)\n",
      "memory usage: 6.6+ MB\n",
      "None\n",
      "****************************************************************************************************\n",
      "                                order_id                       customer_id  \\\n",
      "count                              96461                             96461   \n",
      "unique                             96461                             96461   \n",
      "top     e481f51cbdc54678b7cc49136f2d6af7  9ef432eb6251297304e76186b10a928d   \n",
      "freq                                   1                                 1   \n",
      "\n",
      "       order_status order_purchase_timestamp    order_approved_at  \\\n",
      "count         96461                    96461                96461   \n",
      "unique            2                    95939                88272   \n",
      "top       delivered      2018-08-02 12:05:26  2018-02-27 04:31:10   \n",
      "freq          96455                        3                    9   \n",
      "\n",
      "       order_delivered_carrier_date order_delivered_customer_date  \\\n",
      "count                         96461                         96461   \n",
      "unique                        80100                         95649   \n",
      "top             2018-05-09 15:48:00           2018-05-14 20:02:44   \n",
      "freq                             47                             3   \n",
      "\n",
      "       order_estimated_delivery_date  \n",
      "count                          96461  \n",
      "unique                           445  \n",
      "top              2017-12-20 00:00:00  \n",
      "freq                             507  \n"
     ]
    }
   ],
   "source": [
    "print(orders_df.info())\n",
    "print(\"**\"*50)\n",
    "print(orders_df.describe())"
   ]
  },
  {
   "cell_type": "code",
   "execution_count": 8,
   "metadata": {},
   "outputs": [
    {
     "name": "stdout",
     "output_type": "stream",
     "text": [
      "<class 'pandas.core.frame.DataFrame'>\n",
      "Int64Index: 9839 entries, 9 to 99200\n",
      "Data columns (total 7 columns):\n",
      " #   Column                   Non-Null Count  Dtype \n",
      "---  ------                   --------------  ----- \n",
      " 0   review_id                9839 non-null   object\n",
      " 1   order_id                 9839 non-null   object\n",
      " 2   review_score             9839 non-null   int64 \n",
      " 3   review_comment_title     9839 non-null   object\n",
      " 4   review_comment_message   9839 non-null   object\n",
      " 5   review_creation_date     9839 non-null   object\n",
      " 6   review_answer_timestamp  9839 non-null   object\n",
      "dtypes: int64(1), object(6)\n",
      "memory usage: 614.9+ KB\n",
      "None\n",
      "****************************************************************************************************\n",
      "       review_score\n",
      "count   9839.000000\n",
      "mean       3.837585\n",
      "std        1.556435\n",
      "min        1.000000\n",
      "25%        3.000000\n",
      "50%        5.000000\n",
      "75%        5.000000\n",
      "max        5.000000\n"
     ]
    }
   ],
   "source": [
    "print(order_reviews_df.info())\n",
    "print(\"**\"*50)\n",
    "print(order_reviews_df.describe())"
   ]
  },
  {
   "cell_type": "code",
   "execution_count": 9,
   "metadata": {},
   "outputs": [
    {
     "name": "stdout",
     "output_type": "stream",
     "text": [
      "<class 'pandas.core.frame.DataFrame'>\n",
      "Int64Index: 103886 entries, 0 to 103885\n",
      "Data columns (total 5 columns):\n",
      " #   Column                Non-Null Count   Dtype  \n",
      "---  ------                --------------   -----  \n",
      " 0   order_id              103886 non-null  object \n",
      " 1   payment_sequential    103886 non-null  int64  \n",
      " 2   payment_type          103886 non-null  object \n",
      " 3   payment_installments  103886 non-null  int64  \n",
      " 4   payment_value         103886 non-null  float64\n",
      "dtypes: float64(1), int64(2), object(2)\n",
      "memory usage: 4.8+ MB\n",
      "None\n",
      "****************************************************************************************************\n",
      "       payment_sequential  payment_installments  payment_value\n",
      "count       103886.000000         103886.000000  103886.000000\n",
      "mean             1.092679              2.853349     154.100380\n",
      "std              0.706584              2.687051     217.494064\n",
      "min              1.000000              0.000000       0.000000\n",
      "25%              1.000000              1.000000      56.790000\n",
      "50%              1.000000              1.000000     100.000000\n",
      "75%              1.000000              4.000000     171.837500\n",
      "max             29.000000             24.000000   13664.080000\n"
     ]
    }
   ],
   "source": [
    "print(order_payments_df.info())\n",
    "print(\"**\"*50)\n",
    "print(order_payments_df.describe())"
   ]
  },
  {
   "cell_type": "code",
   "execution_count": 10,
   "metadata": {},
   "outputs": [
    {
     "name": "stdout",
     "output_type": "stream",
     "text": [
      "<class 'pandas.core.frame.DataFrame'>\n",
      "Int64Index: 112650 entries, 0 to 112649\n",
      "Data columns (total 7 columns):\n",
      " #   Column               Non-Null Count   Dtype  \n",
      "---  ------               --------------   -----  \n",
      " 0   order_id             112650 non-null  object \n",
      " 1   order_item_id        112650 non-null  int64  \n",
      " 2   product_id           112650 non-null  object \n",
      " 3   seller_id            112650 non-null  object \n",
      " 4   shipping_limit_date  112650 non-null  object \n",
      " 5   price                112650 non-null  float64\n",
      " 6   freight_value        112650 non-null  float64\n",
      "dtypes: float64(2), int64(1), object(4)\n",
      "memory usage: 6.9+ MB\n",
      "None\n",
      "****************************************************************************************************\n",
      "       order_item_id          price  freight_value\n",
      "count  112650.000000  112650.000000  112650.000000\n",
      "mean        1.197834     120.653739      19.990320\n",
      "std         0.705124     183.633928      15.806405\n",
      "min         1.000000       0.850000       0.000000\n",
      "25%         1.000000      39.900000      13.080000\n",
      "50%         1.000000      74.990000      16.260000\n",
      "75%         1.000000     134.900000      21.150000\n",
      "max        21.000000    6735.000000     409.680000\n"
     ]
    }
   ],
   "source": [
    "print(order_items_df.info())\n",
    "print(\"**\"*50)\n",
    "print(order_items_df.describe())"
   ]
  },
  {
   "attachments": {},
   "cell_type": "markdown",
   "metadata": {},
   "source": [
    "### 4.2. Clean data"
   ]
  },
  {
   "attachments": {},
   "cell_type": "markdown",
   "metadata": {},
   "source": [
    "#### 4.2.1. Product Categories dataset"
   ]
  },
  {
   "cell_type": "code",
   "execution_count": 11,
   "metadata": {},
   "outputs": [
    {
     "data": {
      "text/html": [
       "<div>\n",
       "<style scoped>\n",
       "    .dataframe tbody tr th:only-of-type {\n",
       "        vertical-align: middle;\n",
       "    }\n",
       "\n",
       "    .dataframe tbody tr th {\n",
       "        vertical-align: top;\n",
       "    }\n",
       "\n",
       "    .dataframe thead th {\n",
       "        text-align: right;\n",
       "    }\n",
       "</style>\n",
       "<table border=\"1\" class=\"dataframe\">\n",
       "  <thead>\n",
       "    <tr style=\"text-align: right;\">\n",
       "      <th></th>\n",
       "      <th>product_category_name</th>\n",
       "      <th>product_category_name_english</th>\n",
       "    </tr>\n",
       "  </thead>\n",
       "  <tbody>\n",
       "    <tr>\n",
       "      <th>8</th>\n",
       "      <td>telefonia</td>\n",
       "      <td>telephony</td>\n",
       "    </tr>\n",
       "  </tbody>\n",
       "</table>\n",
       "</div>"
      ],
      "text/plain": [
       "  product_category_name product_category_name_english\n",
       "8             telefonia                     telephony"
      ]
     },
     "execution_count": 11,
     "metadata": {},
     "output_type": "execute_result"
    }
   ],
   "source": [
    "\"\"\"View columns sample\"\"\"\n",
    "product_categories_df.sample()"
   ]
  },
  {
   "cell_type": "code",
   "execution_count": 12,
   "metadata": {},
   "outputs": [
    {
     "data": {
      "text/html": [
       "<div>\n",
       "<style scoped>\n",
       "    .dataframe tbody tr th:only-of-type {\n",
       "        vertical-align: middle;\n",
       "    }\n",
       "\n",
       "    .dataframe tbody tr th {\n",
       "        vertical-align: top;\n",
       "    }\n",
       "\n",
       "    .dataframe thead th {\n",
       "        text-align: right;\n",
       "    }\n",
       "</style>\n",
       "<table border=\"1\" class=\"dataframe\">\n",
       "  <thead>\n",
       "    <tr style=\"text-align: right;\">\n",
       "      <th></th>\n",
       "      <th>product_category_name</th>\n",
       "      <th>product_category_name_english</th>\n",
       "    </tr>\n",
       "  </thead>\n",
       "  <tbody>\n",
       "    <tr>\n",
       "      <th>56</th>\n",
       "      <td>eletrodomesticos_2</td>\n",
       "      <td>home_appliances_2</td>\n",
       "    </tr>\n",
       "  </tbody>\n",
       "</table>\n",
       "</div>"
      ],
      "text/plain": [
       "   product_category_name product_category_name_english\n",
       "56    eletrodomesticos_2             home_appliances_2"
      ]
     },
     "execution_count": 12,
     "metadata": {},
     "output_type": "execute_result"
    }
   ],
   "source": [
    "\"\"\" Remove spaces, drop duplicates from pk & unique columns, to_lower for key colums\"\"\"\n",
    "product_categories_df.product_category_name= product_categories_df.product_category_name.str.strip().str.lower().drop_duplicates()\n",
    "product_categories_df.product_category_name_english= product_categories_df.product_category_name_english.str.strip().str.lower().drop_duplicates()\n",
    "product_categories_df.sample()"
   ]
  },
  {
   "cell_type": "code",
   "execution_count": 13,
   "metadata": {},
   "outputs": [
    {
     "name": "stderr",
     "output_type": "stream",
     "text": [
      "C:\\Users\\danie\\AppData\\Local\\Temp\\ipykernel_8956\\3845767011.py:3: FutureWarning: The frame.append method is deprecated and will be removed from pandas in a future version. Use pandas.concat instead.\n",
      "  product_categories_df = product_categories_df.append(unknown_category, ignore_index=True)\n"
     ]
    }
   ],
   "source": [
    "\"\"\"Add unknown category for outer products\"\"\"\n",
    "unknown_category= {'product_category_name': 'desconhecido', 'product_category_name_english': 'unknown'}\n",
    "product_categories_df = product_categories_df.append(unknown_category, ignore_index=True)"
   ]
  },
  {
   "attachments": {},
   "cell_type": "markdown",
   "metadata": {},
   "source": [
    "#### 4.2.2. Products Dataset"
   ]
  },
  {
   "cell_type": "code",
   "execution_count": 14,
   "metadata": {},
   "outputs": [
    {
     "data": {
      "text/html": [
       "<div>\n",
       "<style scoped>\n",
       "    .dataframe tbody tr th:only-of-type {\n",
       "        vertical-align: middle;\n",
       "    }\n",
       "\n",
       "    .dataframe tbody tr th {\n",
       "        vertical-align: top;\n",
       "    }\n",
       "\n",
       "    .dataframe thead th {\n",
       "        text-align: right;\n",
       "    }\n",
       "</style>\n",
       "<table border=\"1\" class=\"dataframe\">\n",
       "  <thead>\n",
       "    <tr style=\"text-align: right;\">\n",
       "      <th></th>\n",
       "      <th>product_id</th>\n",
       "      <th>product_category_name</th>\n",
       "      <th>product_name_lenght</th>\n",
       "      <th>product_description_lenght</th>\n",
       "      <th>product_photos_qty</th>\n",
       "      <th>product_weight_g</th>\n",
       "      <th>product_length_cm</th>\n",
       "      <th>product_height_cm</th>\n",
       "      <th>product_width_cm</th>\n",
       "    </tr>\n",
       "  </thead>\n",
       "  <tbody>\n",
       "    <tr>\n",
       "      <th>16418</th>\n",
       "      <td>68b92c941d4052c59ba87c2b2824bfa8</td>\n",
       "      <td>cama_mesa_banho</td>\n",
       "      <td>54.0</td>\n",
       "      <td>373.0</td>\n",
       "      <td>1.0</td>\n",
       "      <td>1750.0</td>\n",
       "      <td>40.0</td>\n",
       "      <td>5.0</td>\n",
       "      <td>30.0</td>\n",
       "    </tr>\n",
       "  </tbody>\n",
       "</table>\n",
       "</div>"
      ],
      "text/plain": [
       "                             product_id product_category_name  \\\n",
       "16418  68b92c941d4052c59ba87c2b2824bfa8       cama_mesa_banho   \n",
       "\n",
       "       product_name_lenght  product_description_lenght  product_photos_qty  \\\n",
       "16418                 54.0                       373.0                 1.0   \n",
       "\n",
       "       product_weight_g  product_length_cm  product_height_cm  \\\n",
       "16418            1750.0               40.0                5.0   \n",
       "\n",
       "       product_width_cm  \n",
       "16418              30.0  "
      ]
     },
     "execution_count": 14,
     "metadata": {},
     "output_type": "execute_result"
    }
   ],
   "source": [
    "\"\"\"View columns\"\"\"\n",
    "products_df.sample()"
   ]
  },
  {
   "cell_type": "code",
   "execution_count": 15,
   "metadata": {},
   "outputs": [
    {
     "data": {
      "text/html": [
       "<div>\n",
       "<style scoped>\n",
       "    .dataframe tbody tr th:only-of-type {\n",
       "        vertical-align: middle;\n",
       "    }\n",
       "\n",
       "    .dataframe tbody tr th {\n",
       "        vertical-align: top;\n",
       "    }\n",
       "\n",
       "    .dataframe thead th {\n",
       "        text-align: right;\n",
       "    }\n",
       "</style>\n",
       "<table border=\"1\" class=\"dataframe\">\n",
       "  <thead>\n",
       "    <tr style=\"text-align: right;\">\n",
       "      <th></th>\n",
       "      <th>product_id</th>\n",
       "      <th>product_category_name</th>\n",
       "      <th>product_name_lenght</th>\n",
       "      <th>product_description_lenght</th>\n",
       "      <th>product_photos_qty</th>\n",
       "      <th>product_weight_g</th>\n",
       "      <th>product_length_cm</th>\n",
       "      <th>product_height_cm</th>\n",
       "      <th>product_width_cm</th>\n",
       "    </tr>\n",
       "  </thead>\n",
       "  <tbody>\n",
       "    <tr>\n",
       "      <th>29887</th>\n",
       "      <td>9bd17c3e3b0cbbb8c17af66a7079407b</td>\n",
       "      <td>moveis_decoracao</td>\n",
       "      <td>30</td>\n",
       "      <td>207</td>\n",
       "      <td>1</td>\n",
       "      <td>250.0</td>\n",
       "      <td>16.0</td>\n",
       "      <td>28.0</td>\n",
       "      <td>16.0</td>\n",
       "    </tr>\n",
       "  </tbody>\n",
       "</table>\n",
       "</div>"
      ],
      "text/plain": [
       "                             product_id product_category_name  \\\n",
       "29887  9bd17c3e3b0cbbb8c17af66a7079407b      moveis_decoracao   \n",
       "\n",
       "       product_name_lenght  product_description_lenght  product_photos_qty  \\\n",
       "29887                   30                         207                   1   \n",
       "\n",
       "       product_weight_g  product_length_cm  product_height_cm  \\\n",
       "29887             250.0               16.0               28.0   \n",
       "\n",
       "       product_width_cm  \n",
       "29887              16.0  "
      ]
     },
     "execution_count": 15,
     "metadata": {},
     "output_type": "execute_result"
    }
   ],
   "source": [
    "\"\"\" Remove spaces, drop duplicates from pk & unique columns, to_lower for key colums\"\"\"\n",
    "products_df.product_id=products_df.product_id.str.strip().str.lower().drop_duplicates()\n",
    "products_df.product_category_name=products_df.product_category_name.str.strip().str.lower()\n",
    "\"\"\"Set columns to integer values\"\"\"\n",
    "products_df.product_name_lenght=products_df.product_name_lenght.astype(int)\n",
    "products_df.product_description_lenght=products_df.product_description_lenght.astype(int)\n",
    "products_df.product_photos_qty=products_df.product_photos_qty.astype(int)\n",
    "products_df.sample()"
   ]
  },
  {
   "cell_type": "code",
   "execution_count": 16,
   "metadata": {},
   "outputs": [
    {
     "name": "stdout",
     "output_type": "stream",
     "text": [
      "['pc_gamer', 'portateis_cozinha_e_preparadores_de_alimentos']\n"
     ]
    }
   ],
   "source": [
    "\"\"\"Vefify outer values from FK product_categories table\"\"\"\n",
    "print(list_outer_values(product_categories_df,'product_category_name',products_df,'product_category_name'))"
   ]
  },
  {
   "cell_type": "code",
   "execution_count": 17,
   "metadata": {},
   "outputs": [
    {
     "name": "stderr",
     "output_type": "stream",
     "text": [
      "C:\\Users\\danie\\AppData\\Local\\Temp\\ipykernel_8956\\1014948740.py:2: FutureWarning: The frame.append method is deprecated and will be removed from pandas in a future version. Use pandas.concat instead.\n",
      "  product_categories_df=product_categories_df.append({'product_category_name': 'portateis_cozinha_e_preparadores_de_alimentos', 'product_category_name_english': 'portable_kitchen_and_food_processors'},ignore_index=True)\n",
      "C:\\Users\\danie\\AppData\\Local\\Temp\\ipykernel_8956\\1014948740.py:3: FutureWarning: The frame.append method is deprecated and will be removed from pandas in a future version. Use pandas.concat instead.\n",
      "  product_categories_df=product_categories_df.append({'product_category_name': 'pc_gamer', 'product_category_name_english': 'pc_gamer'},ignore_index=True)\n"
     ]
    }
   ],
   "source": [
    "\"\"\"Add register for outer values\"\"\"\n",
    "product_categories_df=product_categories_df.append({'product_category_name': 'portateis_cozinha_e_preparadores_de_alimentos', 'product_category_name_english': 'portable_kitchen_and_food_processors'},ignore_index=True)\n",
    "product_categories_df=product_categories_df.append({'product_category_name': 'pc_gamer', 'product_category_name_english': 'pc_gamer'},ignore_index=True)"
   ]
  }
 ],
 "metadata": {
  "kernelspec": {
   "display_name": "Python 3",
   "language": "python",
   "name": "python3"
  },
  "language_info": {
   "codemirror_mode": {
    "name": "ipython",
    "version": 3
   },
   "file_extension": ".py",
   "mimetype": "text/x-python",
   "name": "python",
   "nbconvert_exporter": "python",
   "pygments_lexer": "ipython3",
   "version": "3.10.11"
  },
  "orig_nbformat": 4
 },
 "nbformat": 4,
 "nbformat_minor": 2
}
